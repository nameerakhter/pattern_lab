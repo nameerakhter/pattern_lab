{
 "cells": [
  {
   "cell_type": "code",
   "execution_count": 1,
   "metadata": {},
   "outputs": [],
   "source": [
    "import numpy as np\n",
    "import pandas as pd"
   ]
  },
  {
   "cell_type": "markdown",
   "metadata": {},
   "source": [
    "reading the dataset using pandas"
   ]
  },
  {
   "cell_type": "code",
   "execution_count": 3,
   "metadata": {},
   "outputs": [],
   "source": [
    "df = pd.read_csv('D:/pattern detection/NIFTY22JANFUT.csv')"
   ]
  },
  {
   "cell_type": "code",
   "execution_count": 14,
   "metadata": {},
   "outputs": [
    {
     "data": {
      "text/html": [
       "<div>\n",
       "<style scoped>\n",
       "    .dataframe tbody tr th:only-of-type {\n",
       "        vertical-align: middle;\n",
       "    }\n",
       "\n",
       "    .dataframe tbody tr th {\n",
       "        vertical-align: top;\n",
       "    }\n",
       "\n",
       "    .dataframe thead th {\n",
       "        text-align: right;\n",
       "    }\n",
       "</style>\n",
       "<table border=\"1\" class=\"dataframe\">\n",
       "  <thead>\n",
       "    <tr style=\"text-align: right;\">\n",
       "      <th></th>\n",
       "      <th>Unnamed: 0</th>\n",
       "      <th>dateTime</th>\n",
       "      <th>open</th>\n",
       "      <th>high</th>\n",
       "      <th>low</th>\n",
       "      <th>close</th>\n",
       "      <th>volume</th>\n",
       "    </tr>\n",
       "  </thead>\n",
       "  <tbody>\n",
       "    <tr>\n",
       "      <th>0</th>\n",
       "      <td>0</td>\n",
       "      <td>2021-12-23 09:15:00.0</td>\n",
       "      <td>17105.00</td>\n",
       "      <td>17129.95</td>\n",
       "      <td>17105.0</td>\n",
       "      <td>17106.15</td>\n",
       "      <td>0</td>\n",
       "    </tr>\n",
       "    <tr>\n",
       "      <th>1</th>\n",
       "      <td>1</td>\n",
       "      <td>2021-12-23 09:16:00.0</td>\n",
       "      <td>17106.05</td>\n",
       "      <td>17116.00</td>\n",
       "      <td>17100.3</td>\n",
       "      <td>17116.00</td>\n",
       "      <td>12050</td>\n",
       "    </tr>\n",
       "    <tr>\n",
       "      <th>2</th>\n",
       "      <td>2</td>\n",
       "      <td>2021-12-23 09:17:00.0</td>\n",
       "      <td>17116.15</td>\n",
       "      <td>17117.85</td>\n",
       "      <td>17102.7</td>\n",
       "      <td>17107.90</td>\n",
       "      <td>5800</td>\n",
       "    </tr>\n",
       "    <tr>\n",
       "      <th>3</th>\n",
       "      <td>3</td>\n",
       "      <td>2021-12-23 09:18:00.0</td>\n",
       "      <td>17107.90</td>\n",
       "      <td>17120.00</td>\n",
       "      <td>17107.9</td>\n",
       "      <td>17116.70</td>\n",
       "      <td>7450</td>\n",
       "    </tr>\n",
       "  </tbody>\n",
       "</table>\n",
       "</div>"
      ],
      "text/plain": [
       "   Unnamed: 0               dateTime      open      high      low     close  \\\n",
       "0           0  2021-12-23 09:15:00.0  17105.00  17129.95  17105.0  17106.15   \n",
       "1           1  2021-12-23 09:16:00.0  17106.05  17116.00  17100.3  17116.00   \n",
       "2           2  2021-12-23 09:17:00.0  17116.15  17117.85  17102.7  17107.90   \n",
       "3           3  2021-12-23 09:18:00.0  17107.90  17120.00  17107.9  17116.70   \n",
       "\n",
       "   volume  \n",
       "0       0  \n",
       "1   12050  \n",
       "2    5800  \n",
       "3    7450  "
      ]
     },
     "execution_count": 14,
     "metadata": {},
     "output_type": "execute_result"
    }
   ],
   "source": [
    "df.head(4)"
   ]
  },
  {
   "cell_type": "code",
   "execution_count": 4,
   "metadata": {},
   "outputs": [
    {
     "data": {
      "text/html": [
       "<div>\n",
       "<style scoped>\n",
       "    .dataframe tbody tr th:only-of-type {\n",
       "        vertical-align: middle;\n",
       "    }\n",
       "\n",
       "    .dataframe tbody tr th {\n",
       "        vertical-align: top;\n",
       "    }\n",
       "\n",
       "    .dataframe thead th {\n",
       "        text-align: right;\n",
       "    }\n",
       "</style>\n",
       "<table border=\"1\" class=\"dataframe\">\n",
       "  <thead>\n",
       "    <tr style=\"text-align: right;\">\n",
       "      <th></th>\n",
       "      <th>Unnamed: 0</th>\n",
       "      <th>open</th>\n",
       "      <th>high</th>\n",
       "      <th>low</th>\n",
       "      <th>close</th>\n",
       "      <th>volume</th>\n",
       "    </tr>\n",
       "  </thead>\n",
       "  <tbody>\n",
       "    <tr>\n",
       "      <th>count</th>\n",
       "      <td>8303.000000</td>\n",
       "      <td>8303.000000</td>\n",
       "      <td>8303.000000</td>\n",
       "      <td>8303.000000</td>\n",
       "      <td>8303.000000</td>\n",
       "      <td>8303.000000</td>\n",
       "    </tr>\n",
       "    <tr>\n",
       "      <th>mean</th>\n",
       "      <td>4151.000000</td>\n",
       "      <td>17734.360171</td>\n",
       "      <td>17738.300686</td>\n",
       "      <td>17730.468499</td>\n",
       "      <td>17734.454438</td>\n",
       "      <td>17798.253643</td>\n",
       "    </tr>\n",
       "    <tr>\n",
       "      <th>std</th>\n",
       "      <td>2397.013976</td>\n",
       "      <td>410.594170</td>\n",
       "      <td>410.531190</td>\n",
       "      <td>410.647038</td>\n",
       "      <td>410.533291</td>\n",
       "      <td>21578.626307</td>\n",
       "    </tr>\n",
       "    <tr>\n",
       "      <th>min</th>\n",
       "      <td>0.000000</td>\n",
       "      <td>16902.200000</td>\n",
       "      <td>16906.000000</td>\n",
       "      <td>16894.250000</td>\n",
       "      <td>16904.000000</td>\n",
       "      <td>0.000000</td>\n",
       "    </tr>\n",
       "    <tr>\n",
       "      <th>25%</th>\n",
       "      <td>2075.500000</td>\n",
       "      <td>17296.325000</td>\n",
       "      <td>17299.100000</td>\n",
       "      <td>17293.650000</td>\n",
       "      <td>17296.500000</td>\n",
       "      <td>5450.000000</td>\n",
       "    </tr>\n",
       "    <tr>\n",
       "      <th>50%</th>\n",
       "      <td>4151.000000</td>\n",
       "      <td>17788.550000</td>\n",
       "      <td>17794.600000</td>\n",
       "      <td>17783.150000</td>\n",
       "      <td>17789.550000</td>\n",
       "      <td>10650.000000</td>\n",
       "    </tr>\n",
       "    <tr>\n",
       "      <th>75%</th>\n",
       "      <td>6226.500000</td>\n",
       "      <td>18075.000000</td>\n",
       "      <td>18078.875000</td>\n",
       "      <td>18072.000000</td>\n",
       "      <td>18074.900000</td>\n",
       "      <td>21425.000000</td>\n",
       "    </tr>\n",
       "    <tr>\n",
       "      <th>max</th>\n",
       "      <td>8302.000000</td>\n",
       "      <td>18360.250000</td>\n",
       "      <td>18363.400000</td>\n",
       "      <td>18351.450000</td>\n",
       "      <td>18358.000000</td>\n",
       "      <td>356850.000000</td>\n",
       "    </tr>\n",
       "  </tbody>\n",
       "</table>\n",
       "</div>"
      ],
      "text/plain": [
       "        Unnamed: 0          open          high           low         close  \\\n",
       "count  8303.000000   8303.000000   8303.000000   8303.000000   8303.000000   \n",
       "mean   4151.000000  17734.360171  17738.300686  17730.468499  17734.454438   \n",
       "std    2397.013976    410.594170    410.531190    410.647038    410.533291   \n",
       "min       0.000000  16902.200000  16906.000000  16894.250000  16904.000000   \n",
       "25%    2075.500000  17296.325000  17299.100000  17293.650000  17296.500000   \n",
       "50%    4151.000000  17788.550000  17794.600000  17783.150000  17789.550000   \n",
       "75%    6226.500000  18075.000000  18078.875000  18072.000000  18074.900000   \n",
       "max    8302.000000  18360.250000  18363.400000  18351.450000  18358.000000   \n",
       "\n",
       "              volume  \n",
       "count    8303.000000  \n",
       "mean    17798.253643  \n",
       "std     21578.626307  \n",
       "min         0.000000  \n",
       "25%      5450.000000  \n",
       "50%     10650.000000  \n",
       "75%     21425.000000  \n",
       "max    356850.000000  "
      ]
     },
     "execution_count": 4,
     "metadata": {},
     "output_type": "execute_result"
    }
   ],
   "source": [
    "df.describe()"
   ]
  },
  {
   "cell_type": "code",
   "execution_count": 26,
   "metadata": {},
   "outputs": [],
   "source": [
    "del df['volume']"
   ]
  },
  {
   "cell_type": "code",
   "execution_count": 28,
   "metadata": {},
   "outputs": [
    {
     "data": {
      "text/html": [
       "<div>\n",
       "<style scoped>\n",
       "    .dataframe tbody tr th:only-of-type {\n",
       "        vertical-align: middle;\n",
       "    }\n",
       "\n",
       "    .dataframe tbody tr th {\n",
       "        vertical-align: top;\n",
       "    }\n",
       "\n",
       "    .dataframe thead th {\n",
       "        text-align: right;\n",
       "    }\n",
       "</style>\n",
       "<table border=\"1\" class=\"dataframe\">\n",
       "  <thead>\n",
       "    <tr style=\"text-align: right;\">\n",
       "      <th></th>\n",
       "      <th>open</th>\n",
       "      <th>high</th>\n",
       "      <th>low</th>\n",
       "      <th>close</th>\n",
       "    </tr>\n",
       "  </thead>\n",
       "  <tbody>\n",
       "    <tr>\n",
       "      <th>0</th>\n",
       "      <td>17105.00</td>\n",
       "      <td>17129.95</td>\n",
       "      <td>17105.0</td>\n",
       "      <td>17106.15</td>\n",
       "    </tr>\n",
       "    <tr>\n",
       "      <th>1</th>\n",
       "      <td>17106.05</td>\n",
       "      <td>17116.00</td>\n",
       "      <td>17100.3</td>\n",
       "      <td>17116.00</td>\n",
       "    </tr>\n",
       "    <tr>\n",
       "      <th>2</th>\n",
       "      <td>17116.15</td>\n",
       "      <td>17117.85</td>\n",
       "      <td>17102.7</td>\n",
       "      <td>17107.90</td>\n",
       "    </tr>\n",
       "    <tr>\n",
       "      <th>3</th>\n",
       "      <td>17107.90</td>\n",
       "      <td>17120.00</td>\n",
       "      <td>17107.9</td>\n",
       "      <td>17116.70</td>\n",
       "    </tr>\n",
       "  </tbody>\n",
       "</table>\n",
       "</div>"
      ],
      "text/plain": [
       "       open      high      low     close\n",
       "0  17105.00  17129.95  17105.0  17106.15\n",
       "1  17106.05  17116.00  17100.3  17116.00\n",
       "2  17116.15  17117.85  17102.7  17107.90\n",
       "3  17107.90  17120.00  17107.9  17116.70"
      ]
     },
     "execution_count": 28,
     "metadata": {},
     "output_type": "execute_result"
    }
   ],
   "source": [
    "df.head(4)"
   ]
  },
  {
   "cell_type": "code",
   "execution_count": 31,
   "metadata": {},
   "outputs": [
    {
     "data": {
      "text/plain": [
       "matrix([[17105.  , 17129.95, 17105.  , 17106.15],\n",
       "        [17106.05, 17116.  , 17100.3 , 17116.  ],\n",
       "        [17116.15, 17117.85, 17102.7 , 17107.9 ],\n",
       "        [17107.9 , 17120.  , 17107.9 , 17116.7 ]])"
      ]
     },
     "execution_count": 31,
     "metadata": {},
     "output_type": "execute_result"
    }
   ],
   "source": [
    "matrix = np.matrix(df.head(4))\n",
    "matrix"
   ]
  },
  {
   "cell_type": "code",
   "execution_count": 32,
   "metadata": {},
   "outputs": [],
   "source": [
    "matrix = np.matrix(df)"
   ]
  },
  {
   "cell_type": "code",
   "execution_count": 35,
   "metadata": {},
   "outputs": [
    {
     "name": "stdout",
     "output_type": "stream",
     "text": [
      "[]\n"
     ]
    }
   ],
   "source": [
    "matrix = matrix[0:4, 2:6]"
   ]
  },
  {
   "cell_type": "code",
   "execution_count": null,
   "metadata": {},
   "outputs": [],
   "source": []
  }
 ],
 "metadata": {
  "kernelspec": {
   "display_name": "Python 3.9.7 ('base')",
   "language": "python",
   "name": "python3"
  },
  "language_info": {
   "codemirror_mode": {
    "name": "ipython",
    "version": 3
   },
   "file_extension": ".py",
   "mimetype": "text/x-python",
   "name": "python",
   "nbconvert_exporter": "python",
   "pygments_lexer": "ipython3",
   "version": "3.9.7"
  },
  "orig_nbformat": 4,
  "vscode": {
   "interpreter": {
    "hash": "9fd4bfeb66f00922a21d13bc6e9e9191e8f2c10d924f15dce9e1eaf096945bd5"
   }
  }
 },
 "nbformat": 4,
 "nbformat_minor": 2
}
